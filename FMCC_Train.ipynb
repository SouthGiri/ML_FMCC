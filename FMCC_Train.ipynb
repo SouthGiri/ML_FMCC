{
 "cells": [
  {
   "cell_type": "markdown",
   "metadata": {},
   "source": [
    "# 0. Install required library"
   ]
  },
  {
   "cell_type": "code",
   "execution_count": null,
   "metadata": {},
   "outputs": [],
   "source": [
    "%pip install ipykernal\n",
    "%pip install librosa\n",
    "%pip install numpy\n",
    "%pip install noisereduce\n",
    "%pip install sklearn\n",
    "%pip install pickle"
   ]
  },
  {
   "cell_type": "code",
   "execution_count": 1,
   "metadata": {},
   "outputs": [
    {
     "name": "stderr",
     "output_type": "stream",
     "text": [
      "c:\\Users\\GAILAB\\anaconda3\\envs\\fmcc\\lib\\site-packages\\tqdm\\auto.py:21: TqdmWarning: IProgress not found. Please update jupyter and ipywidgets. See https://ipywidgets.readthedocs.io/en/stable/user_install.html\n",
      "  from .autonotebook import tqdm as notebook_tqdm\n"
     ]
    }
   ],
   "source": [
    "import pickle\n",
    "import librosa\n",
    "import numpy as np\n",
    "import noisereduce as nr\n",
    "import sklearn.preprocessing\n",
    "\n",
    "from sklearn.svm import SVC\n",
    "from sklearn.neighbors import KNeighborsClassifier\n",
    "from sklearn.ensemble import RandomForestClassifier\n",
    "from sklearn.ensemble import VotingClassifier\n",
    "from tqdm import tqdm"
   ]
  },
  {
   "cell_type": "markdown",
   "metadata": {},
   "source": [
    "# 1. Preprocess data"
   ]
  },
  {
   "cell_type": "code",
   "execution_count": 2,
   "metadata": {},
   "outputs": [],
   "source": [
    "# Make avg_frame length for same input\n",
    "def zero_padding(mfcc, avg_frame=40):\n",
    "    if mfcc.shape[1] < avg_frame:\n",
    "        padding = np.zeros((mfcc.shape[0], avg_frame - mfcc.shape[1]))\n",
    "        mfcc = np.hstack((mfcc, padding))\n",
    "    else:\n",
    "        mfcc = mfcc[:, :avg_frame]\n",
    "        \n",
    "    return mfcc\n",
    "\n",
    "# raw-to-mfcc\n",
    "def raw_to_mfcc(raw_file_path):\n",
    "\n",
    "    # Read raw file\n",
    "    with open(raw_file_path, 'rb') as file:\n",
    "        # Raw-to-wav\n",
    "        audio_data = np.frombuffer(file.read(), dtype=np.int16)\n",
    "        audio_data = audio_data.astype(np.float32)\n",
    "\n",
    "    # Reduce noise\n",
    "    clean_data = nr.reduce_noise(y=audio_data, sr=16000)\n",
    "\n",
    "    # Wav-to-mfcc\n",
    "    mfcc = librosa.feature.mfcc(y=clean_data, sr=16000, n_mfcc=20, n_mels=100, fmin=0, fmax=400)\n",
    "\n",
    "    # Zero padding and scaling\n",
    "    mfcc = zero_padding(mfcc, avg_frame=37)\n",
    "    mfcc = sklearn.preprocessing.minmax_scale(mfcc, axis=1)\n",
    "\n",
    "    # Flatten data for model input\n",
    "    mfcc = mfcc.flatten()\n",
    "\n",
    "    return mfcc"
   ]
  },
  {
   "cell_type": "code",
   "execution_count": 3,
   "metadata": {},
   "outputs": [
    {
     "name": "stderr",
     "output_type": "stream",
     "text": [
      "82it [00:03, 27.92it/s]"
     ]
    }
   ],
   "source": [
    "X_train = []\n",
    "Y_train = []\n",
    "\n",
    "# Read the training data and labels from the control file name\n",
    "with open('fmcc_train.ctl', 'r') as file:\n",
    "    for line in tqdm(file):\n",
    "        file_path = './raw16k/train/' + line.rstrip() + '.raw'\n",
    "\n",
    "        # Append label\n",
    "        Y_train.append(line[0])\n",
    "\n",
    "        # Raw-to-mfcc\n",
    "        mfcc = raw_to_mfcc(file_path)\n",
    "        X_train.append(mfcc)\n",
    "\n",
    "Y_train = np.array(Y_train)"
   ]
  },
  {
   "cell_type": "markdown",
   "metadata": {},
   "source": [
    "# 2. Train Model & Save model"
   ]
  },
  {
   "cell_type": "code",
   "execution_count": null,
   "metadata": {},
   "outputs": [],
   "source": [
    "# Create SVM, KNN and Random Forest classifiers\n",
    "svm_classifier = SVC()\n",
    "knn_classifier = KNeighborsClassifier(n_neighbors=13)\n",
    "rf = RandomForestClassifier(\n",
    "    min_samples_leaf=5,\n",
    "    min_samples_split=7,\n",
    "    max_depth=17,\n",
    "    criterion='gini',\n",
    "    max_features='log2',\n",
    "    bootstrap=False,\n",
    "    random_state=42\n",
    ")\n",
    "\n",
    "# Create a voting classifier\n",
    "voting_classifier = VotingClassifier(\n",
    "    estimators=[('svm', svm_classifier),\n",
    "                ('knn', knn_classifier),\n",
    "                ('rf', rf)],\n",
    "    voting='hard'\n",
    ")\n",
    "\n",
    "# Train the voting classifier\n",
    "voting_classifier.fit(X_train, Y_train)\n",
    "\n",
    "# Save the voting classifier\n",
    "with open('voting_classifier.pkl', 'wb') as f:\n",
    "    pickle.dump(voting_classifier, f)"
   ]
  }
 ],
 "metadata": {
  "kernelspec": {
   "display_name": "fmcc",
   "language": "python",
   "name": "python3"
  },
  "language_info": {
   "codemirror_mode": {
    "name": "ipython",
    "version": 3
   },
   "file_extension": ".py",
   "mimetype": "text/x-python",
   "name": "python",
   "nbconvert_exporter": "python",
   "pygments_lexer": "ipython3",
   "version": "3.10.0"
  }
 },
 "nbformat": 4,
 "nbformat_minor": 2
}
