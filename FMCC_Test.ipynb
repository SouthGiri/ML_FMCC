{
 "cells": [
  {
   "cell_type": "markdown",
   "metadata": {},
   "source": [
    "# 0. 라이브러리 설치"
   ]
  },
  {
   "cell_type": "code",
   "execution_count": null,
   "metadata": {},
   "outputs": [],
   "source": [
    "%pip install ipykernal\n",
    "%pip install librosa\n",
    "%pip install numpy\n",
    "%pip install noisereduce\n",
    "%pip install sklearn\n",
    "%pip install pickle"
   ]
  },
  {
   "cell_type": "code",
   "execution_count": 1,
   "metadata": {},
   "outputs": [
    {
     "name": "stderr",
     "output_type": "stream",
     "text": [
      "c:\\Users\\GAILAB\\anaconda3\\envs\\fmcc\\lib\\site-packages\\tqdm\\auto.py:21: TqdmWarning: IProgress not found. Please update jupyter and ipywidgets. See https://ipywidgets.readthedocs.io/en/stable/user_install.html\n",
      "  from .autonotebook import tqdm as notebook_tqdm\n"
     ]
    }
   ],
   "source": [
    "import librosa\n",
    "import numpy as np\n",
    "import noisereduce as nr\n",
    "import sklearn.preprocessing\n",
    "from tqdm import tqdm\n",
    "from sklearn.svm import SVC\n",
    "import pickle"
   ]
  },
  {
   "cell_type": "markdown",
   "metadata": {},
   "source": [
    "# 1. 데이터 전처리"
   ]
  },
  {
   "cell_type": "code",
   "execution_count": 2,
   "metadata": {},
   "outputs": [],
   "source": [
    "def zero_padding(mfcc, max_length=40):\n",
    "    if mfcc.shape[1] < max_length:\n",
    "        padding = np.zeros((mfcc.shape[0], max_length - mfcc.shape[1]))\n",
    "        mfcc = np.hstack((mfcc, padding))\n",
    "    else:\n",
    "        mfcc = mfcc[:, :max_length]\n",
    "        \n",
    "    mfcc = sklearn.preprocessing.minmax_scale(mfcc, axis=1)\n",
    "    return mfcc\n",
    "\n",
    "\n",
    "def raw_to_mfcc(raw_file_path, sampling_rate=16000):\n",
    "    # read raw file\n",
    "    with open(raw_file_path, 'rb') as file:\n",
    "        audio_data = np.frombuffer(file.read(), dtype=np.int16)\n",
    "        audio_data = audio_data.astype(np.float32)\n",
    "\n",
    "    # reduce noise\n",
    "    wav_audio = nr.reduce_noise(y=audio_data, sr=sampling_rate)\n",
    "    \n",
    "    # extract mfcc\n",
    "    mfcc = librosa.feature.mfcc(y=wav_audio, sr=sampling_rate, n_mfcc=13, n_mels=100, fmin=0, fmax=400)\n",
    "    \n",
    "    # zero padding\n",
    "    mfcc = zero_padding(mfcc)\n",
    "\n",
    "    return mfcc"
   ]
  },
  {
   "cell_type": "code",
   "execution_count": 3,
   "metadata": {},
   "outputs": [
    {
     "name": "stderr",
     "output_type": "stream",
     "text": [
      "1000it [00:34, 28.58it/s]\n"
     ]
    }
   ],
   "source": [
    "X_test = []\n",
    "X_test_name = []\n",
    "\n",
    "with open('fmcc_test.ctl', 'r') as file:\n",
    "    for line in tqdm(file):\n",
    "        file_path = './raw16k/test/' + line.rstrip() + '.raw'\n",
    "        \n",
    "        X_test_name.append(file_path)\n",
    "        X_test.append(raw_to_mfcc(file_path))\n",
    "\n",
    "X_test = [data.flatten() for data in X_test]"
   ]
  },
  {
   "cell_type": "markdown",
   "metadata": {},
   "source": [
    "# 2. 학습된 모델 로드"
   ]
  },
  {
   "cell_type": "code",
   "execution_count": 4,
   "metadata": {},
   "outputs": [],
   "source": [
    "svm_classifier = SVC()\n",
    "\n",
    "with open('svm_classifier.pkl', 'rb') as f:\n",
    "    svm_classifier = pickle.load(f)"
   ]
  },
  {
   "cell_type": "markdown",
   "metadata": {},
   "source": [
    "# 3. 테스트 데이터 추론 & 결과 저장"
   ]
  },
  {
   "cell_type": "code",
   "execution_count": 5,
   "metadata": {},
   "outputs": [],
   "source": [
    "# Predict the classes for the preprocessed_data\n",
    "predict = svm_classifier.predict(X_test)"
   ]
  },
  {
   "cell_type": "code",
   "execution_count": 6,
   "metadata": {},
   "outputs": [],
   "source": [
    "file = open('./과탑_test_results.txt', 'w')\n",
    "\n",
    "for i in range(len(predict)):\n",
    "    if predict[i] == 'M':\n",
    "        res = 'male'\n",
    "    else:\n",
    "        res = 'feml'\n",
    "\n",
    "    file.write(X_test_name[i] + ' ' + res + '\\n')\n",
    "file.close()"
   ]
  }
 ],
 "metadata": {
  "kernelspec": {
   "display_name": "fmcc",
   "language": "python",
   "name": "python3"
  },
  "language_info": {
   "codemirror_mode": {
    "name": "ipython",
    "version": 3
   },
   "file_extension": ".py",
   "mimetype": "text/x-python",
   "name": "python",
   "nbconvert_exporter": "python",
   "pygments_lexer": "ipython3",
   "version": "3.10.0"
  }
 },
 "nbformat": 4,
 "nbformat_minor": 2
}
